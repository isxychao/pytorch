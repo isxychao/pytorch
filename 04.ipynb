{
 "cells": [
  {
   "cell_type": "markdown",
   "metadata": {},
   "source": [
    "# PyTorch练习3"
   ]
  },
  {
   "cell_type": "markdown",
   "metadata": {},
   "source": [
    "使用PyTorch编写并训练卷积神经网络模型,用于识别蜜蜂和蚂蚁。数据集在../hymenoptera_data中，包含了train和val两个目录，分别为训练集与验证集，Resnet-50 预训练权值文件resnet50.pth。"
   ]
  },
  {
   "cell_type": "code",
   "execution_count": 1,
   "metadata": {},
   "outputs": [
    {
     "name": "stdout",
     "output_type": "stream",
     "text": [
      "赵旭阳\n"
     ]
    }
   ],
   "source": [
    "#请输出你的姓名\n",
    "print('赵旭阳')"
   ]
  },
  {
   "cell_type": "code",
   "execution_count": 3,
   "metadata": {},
   "outputs": [],
   "source": [
    "#导入必要的包\n",
    "import numpy as np\n",
    "import torch\n",
    "import torch.nn as nn\n",
    "import torch.optim as optim\n",
    "import torch.nn.functional as F\n",
    "import torchvision\n",
    "import torchvision.transforms as transforms\n",
    "import torchvision.datasets as datasets\n",
    "from torchnet.meter import ConfusionMeter\n",
    "import matplotlib.pyplot as plt"
   ]
  },
  {
   "cell_type": "code",
   "execution_count": 9,
   "metadata": {},
   "outputs": [],
   "source": [
    "def evaluate(net, data_loader, num_classes, device):\n",
    "    correct = 0\n",
    "    total = 0\n",
    "    cm = ConfusionMeter(num_classes)\n",
    "    with torch.no_grad():\n",
    "        for data in data_loader:\n",
    "            images, labels = data[0].to(device), data[1].to(device)\n",
    "            outputs = net(images)\n",
    "            _, predicted = torch.max(outputs.data, 1)\n",
    "            total += labels.size(0)\n",
    "            correct += (predicted == labels).sum().item()\n",
    "            cm.add(predicted, labels)\n",
    "            \n",
    "        acc = correct / total\n",
    "    return acc, cm"
   ]
  },
  {
   "cell_type": "markdown",
   "metadata": {},
   "source": [
    "## 作业1：设计卷积网络\n",
    "\n",
    "自行设计一个卷积神经网络，实现对两类图像的识别。要求输出混淆矩阵。"
   ]
  },
  {
   "cell_type": "code",
   "execution_count": 73,
   "metadata": {},
   "outputs": [],
   "source": [
    "normalize = transforms.Normalize((0.5,0.5,0.5),(0.5,0.5,0.5))\n",
    "\n",
    "data_transform = transforms.Compose([transforms.RandomResizedCrop(32), transforms.RandomHorizontalFlip(), transforms.ToTensor(), normalize])\n",
    "\n",
    "train_set = torchvision.datasets.ImageFolder(root = '../data/hymenoptera_data/train/', transform=data_transform)\n",
    "val_set = torchvision.datasets.ImageFolder(root = '../data/hymenoptera_data/val/', transform=data_transform)\n",
    "\n",
    "train_loader = torch.utils.data.DataLoader(dataset=train_set, batch_size=32, shuffle=True, num_workers=0)\n",
    "\n",
    "val_loader = torch.utils.data.DataLoader(dataset=val_set, batch_size=32, shuffle=False, num_workers=0)\n"
   ]
  },
  {
   "cell_type": "code",
   "execution_count": 231,
   "metadata": {},
   "outputs": [],
   "source": [
    "class CNN(nn.Module):\n",
    "    def __init__(self):\n",
    "        super(CNN, self).__init__()\n",
    "        \n",
    "        self.conv1 = nn.Conv2d(in_channels=3, out_channels=16, kernel_size=3)\n",
    "        self.pool1 = nn.MaxPool2d(kernel_size=2, stride=2)\n",
    "        self.conv2 = nn.Conv2d(in_channels=16, out_channels=32, kernel_size=5)\n",
    "        self.pool2 = nn.MaxPool2d(kernel_size=3, stride=3)\n",
    "        self.conv3 = nn.Conv2d(in_channels=32, out_channels=128, kernel_size=3)\n",
    "        self.fc1 = nn.Linear(128, 128)\n",
    "        self.fc2 = nn.Linear(128, 64)\n",
    "        self.fc3 = nn.Linear(64, 2)\n",
    "        \n",
    "    def forward(self, x):\n",
    "        x = self.pool1(F.relu(self.conv1(x)))\n",
    "\n",
    "        x = self.pool2(F.relu(self.conv2(x)))\n",
    "        x = F.relu(self.conv3(x))\n",
    "\n",
    "\n",
    "        x = x.view(-1, 128)\n",
    "\n",
    "\n",
    "        x = F.relu(self.fc1(x))\n",
    "        x = F.relu(self.fc2(x))\n",
    "        x = self.fc3(x)\n",
    "        return x"
   ]
  },
  {
   "cell_type": "code",
   "execution_count": 232,
   "metadata": {},
   "outputs": [
    {
     "data": {
      "text/plain": [
       "CNN(\n",
       "  (conv1): Conv2d(3, 16, kernel_size=(3, 3), stride=(1, 1))\n",
       "  (pool1): MaxPool2d(kernel_size=2, stride=2, padding=0, dilation=1, ceil_mode=False)\n",
       "  (conv2): Conv2d(16, 32, kernel_size=(5, 5), stride=(1, 1))\n",
       "  (pool2): MaxPool2d(kernel_size=3, stride=3, padding=0, dilation=1, ceil_mode=False)\n",
       "  (conv3): Conv2d(32, 128, kernel_size=(3, 3), stride=(1, 1))\n",
       "  (fc1): Linear(in_features=128, out_features=128, bias=True)\n",
       "  (fc2): Linear(in_features=128, out_features=64, bias=True)\n",
       "  (fc3): Linear(in_features=64, out_features=2, bias=True)\n",
       ")"
      ]
     },
     "execution_count": 232,
     "metadata": {},
     "output_type": "execute_result"
    }
   ],
   "source": [
    "net = CNN()\n",
    "if torch.cuda.is_available():\n",
    "    device = torch.device(\"cuda:0\")\n",
    "else:\n",
    "    device = torch.device(\"cpu\")\n",
    "\n",
    "net.to(device)\n",
    "\n",
    "xentropy = nn.CrossEntropyLoss()\n",
    "\n",
    "xbce = nn.BCEWithLogitsLoss()\n",
    "\n",
    "optimizer = optim.SGD(net.parameters(), lr=0.1, momentum=0.9)\n",
    "net.train()"
   ]
  },
  {
   "cell_type": "code",
   "execution_count": 233,
   "metadata": {},
   "outputs": [
    {
     "name": "stdout",
     "output_type": "stream",
     "text": [
      "[1,     8  loss = 0.699\n",
      "[2,     8  loss = 0.694\n",
      "[3,     8  loss = 0.692\n",
      "[4,     8  loss = 0.689\n",
      "[5,     8  loss = 0.679\n",
      "[6,     8  loss = 0.650\n",
      "[7,     8  loss = 0.660\n",
      "[8,     8  loss = 0.708\n",
      "[9,     8  loss = 0.674\n",
      "[10,     8  loss = 0.642\n",
      "[11,     8  loss = 0.690\n",
      "[12,     8  loss = 0.669\n",
      "[13,     8  loss = 0.670\n",
      "[14,     8  loss = 0.683\n",
      "[15,     8  loss = 0.683\n",
      "[16,     8  loss = 0.664\n",
      "[17,     8  loss = 0.629\n",
      "[18,     8  loss = 0.639\n",
      "[19,     8  loss = 0.709\n",
      "[20,     8  loss = 0.717\n",
      "[21,     8  loss = 0.717\n",
      "[22,     8  loss = 0.699\n",
      "[23,     8  loss = 0.699\n",
      "[24,     8  loss = 0.695\n",
      "[25,     8  loss = 0.698\n",
      "[26,     8  loss = 0.700\n",
      "[27,     8  loss = 0.696\n",
      "[28,     8  loss = 0.693\n",
      "[29,     8  loss = 0.694\n",
      "[30,     8  loss = 0.679\n",
      "[31,     8  loss = 0.654\n",
      "[32,     8  loss = 0.611\n",
      "[33,     8  loss = 0.684\n",
      "[34,     8  loss = 0.680\n",
      "[35,     8  loss = 0.661\n",
      "[36,     8  loss = 0.652\n",
      "[37,     8  loss = 0.617\n",
      "[38,     8  loss = 0.620\n",
      "[39,     8  loss = 0.620\n",
      "[40,     8  loss = 0.598\n",
      "[41,     8  loss = 0.621\n",
      "[42,     8  loss = 0.595\n",
      "[43,     8  loss = 0.553\n",
      "[44,     8  loss = 0.557\n",
      "[45,     8  loss = 0.625\n",
      "[46,     8  loss = 0.606\n",
      "[47,     8  loss = 0.573\n",
      "[48,     8  loss = 0.645\n",
      "[49,     8  loss = 0.619\n",
      "[50,     8  loss = 0.597\n"
     ]
    }
   ],
   "source": [
    "for epoch in range(50):\n",
    "    running_loss = 0.0\n",
    "    for i,data in enumerate(train_loader):\n",
    "        inputs, labels = data[0], data[1]\n",
    "        optimizer.zero_grad()\n",
    "        outputs = net(inputs)\n",
    "        \n",
    "        \n",
    "        loss = xentropy(outputs, labels)\n",
    "        \n",
    "\n",
    "        loss.backward()\n",
    "        optimizer.step()\n",
    "        running_loss += loss.item()\n",
    "        #print(i)\n",
    "        if i % 8 == 7:\n",
    "            print('[{0:d}, {1:5d}  loss = {2:.3f}'.format(epoch+1, i+1, running_loss/8))\n",
    "            running_loss = 0.0"
   ]
  },
  {
   "cell_type": "code",
   "execution_count": 236,
   "metadata": {},
   "outputs": [
    {
     "name": "stdout",
     "output_type": "stream",
     "text": [
      "准确度:\n",
      " 0.6339869281045751\n",
      "混淆矩阵:\n",
      " [[46 24]\n",
      " [32 51]]\n"
     ]
    }
   ],
   "source": [
    "acc,cm = evaluate(net, val_loader, 2, device)\n",
    "print('准确度:\\n {}'.format(acc))\n",
    "print('混淆矩阵:\\n {}'.format(cm.conf))"
   ]
  },
  {
   "cell_type": "markdown",
   "metadata": {},
   "source": [
    "## 作业2：迁移学习\n",
    "\n",
    "使用ImageNet上预训练的ResNet-50模型，迁移到两类图像识别任务上。要求输出混淆矩阵。"
   ]
  },
  {
   "cell_type": "code",
   "execution_count": 225,
   "metadata": {},
   "outputs": [
    {
     "data": {
      "text/plain": [
       "<All keys matched successfully>"
      ]
     },
     "execution_count": 225,
     "metadata": {},
     "output_type": "execute_result"
    }
   ],
   "source": [
    "#在下面编写你的代码\n",
    "import torchvision.models as models\n",
    "\n",
    "model = CNN()\n",
    "\n",
    "resnet50 = models.resnet50()\n",
    "\n",
    "state_dict = torch.load('../Exercise/resnet50.pth')\n",
    "\n",
    "resnet50.load_state_dict(state_dict)"
   ]
  },
  {
   "cell_type": "code",
   "execution_count": 243,
   "metadata": {},
   "outputs": [
    {
     "name": "stdout",
     "output_type": "stream",
     "text": [
      "准确度:\n",
      " 0.5032679738562091\n",
      "混淆矩阵:\n",
      " [[64  6]\n",
      " [70 13]]\n"
     ]
    }
   ],
   "source": [
    "# 样本预处理\n",
    "normalize = transforms.Normalize((0.485,0.456,0.406),(0.229,0.224,0.225))\n",
    "\n",
    "data_transform = transforms.Compose([transforms.RandomResizedCrop(32), transforms.RandomHorizontalFlip(), transforms.ToTensor(), normalize])\n",
    "\n",
    "train_set = torchvision.datasets.ImageFolder(root = '../data/hymenoptera_data/train/', transform=data_transform)\n",
    "val_set = torchvision.datasets.ImageFolder(root = '../data/hymenoptera_data/val/', transform=data_transform)\n",
    "\n",
    "\n",
    "train_loader = torch.utils.data.DataLoader(dataset=train_set, batch_size=32, shuffle=True, num_workers=0)\n",
    "\n",
    "val_loader = torch.utils.data.DataLoader(dataset=val_set, batch_size=32, shuffle=False, num_workers=0)\n",
    "\n",
    "acc,cm = evaluate(model, val_loader, 2, device)\n",
    "print('准确度:\\n {}'.format(acc))\n",
    "print('混淆矩阵:\\n {}'.format(cm.conf))"
   ]
  },
  {
   "cell_type": "code",
   "execution_count": null,
   "metadata": {},
   "outputs": [],
   "source": []
  }
 ],
 "metadata": {
  "kernelspec": {
   "display_name": "Python 3",
   "language": "python",
   "name": "python3"
  },
  "language_info": {
   "codemirror_mode": {
    "name": "ipython",
    "version": 3
   },
   "file_extension": ".py",
   "mimetype": "text/x-python",
   "name": "python",
   "nbconvert_exporter": "python",
   "pygments_lexer": "ipython3",
   "version": "3.8.10"
  }
 },
 "nbformat": 4,
 "nbformat_minor": 2
}
