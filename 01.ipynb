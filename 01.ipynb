{
 "cells": [
  {
   "cell_type": "markdown",
   "metadata": {},
   "source": [
    "# PyTorch练习1"
   ]
  },
  {
   "cell_type": "code",
   "execution_count": 1,
   "metadata": {},
   "outputs": [
    {
     "name": "stdout",
     "output_type": "stream",
     "text": [
      "赵旭阳\n"
     ]
    }
   ],
   "source": [
    "#请输出你的姓名\n",
    "print('赵旭阳')"
   ]
  },
  {
   "cell_type": "markdown",
   "metadata": {},
   "source": [
    "## 使用tensor编写并训练一个感知器模型"
   ]
  },
  {
   "cell_type": "code",
   "execution_count": 9,
   "metadata": {},
   "outputs": [
    {
     "name": "stdout",
     "output_type": "stream",
     "text": [
      "1.9.0\n"
     ]
    }
   ],
   "source": [
    "import torch\n",
    "import matplotlib.pyplot as plt\n",
    "import numpy as np\n",
    "\n",
    "%matplotlib inline\n",
    "\n",
    "print(torch.__version__)"
   ]
  },
  {
   "cell_type": "code",
   "execution_count": 3,
   "metadata": {},
   "outputs": [],
   "source": [
    "#生成训练数据\n",
    "def GenerateSamples(n):\n",
    "    x1 = torch.randn((2,n)) + 2\n",
    "    x2 = torch.randn((2,n)) - 2\n",
    "    y1 = torch.ones((n))\n",
    "    y2 = torch.zeros((n))\n",
    "    x = torch.cat((x1,x2),dim = 1)\n",
    "    y = torch.cat((y1,y2),dim = 0)\n",
    "    \n",
    "    return x,y"
   ]
  },
  {
   "cell_type": "code",
   "execution_count": 10,
   "metadata": {},
   "outputs": [
    {
     "name": "stdout",
     "output_type": "stream",
     "text": [
      "torch.Size([2, 60])\n"
     ]
    },
    {
     "data": {
      "text/plain": [
       "[<matplotlib.lines.Line2D at 0x244e2a20f10>]"
      ]
     },
     "execution_count": 10,
     "metadata": {},
     "output_type": "execute_result"
    },
    {
     "data": {
      "image/png": "[encoded data removed]",
      "text/plain": [
       "<Figure size 432x288 with 1 Axes>"
      ]
     },
     "metadata": {
      "needs_background": "light"
     },
     "output_type": "display_data"
    }
   ],
   "source": [
    "X,Y = GenerateSamples(30)\n",
    "print(X.shape)\n",
    "plt.plot(X[0,Y==1],X[1,Y==1],'r+')\n",
    "plt.plot(X[0,Y==0],X[1,Y==0],'bo')"
   ]
  },
  {
   "cell_type": "code",
   "execution_count": 6,
   "metadata": {},
   "outputs": [],
   "source": [
    "#编写模型并训练\n",
    "class Neuron():\n",
    "    def __init__(self, in_features):\n",
    "        self.dim = in_features\n",
    "        self.W = torch.zeros((1, self.dim))\n",
    "        self.b = torch.zeros(1)\n",
    "        \n",
    "    def __sigmoid__(self, z):\n",
    "        return 1 / (1 + torch.exp(-z))\n",
    "    \n",
    "    def __transfer__(self, x):\n",
    "        return self.W @ x + self.b\n",
    "    \n",
    "    def __update__(self, dW, db, lr):\n",
    "        self.W = self.W + lr * dW\n",
    "        self.b = self.b + lr * db\n",
    "        \n",
    "    def __calc_loss__(self, Y, rho):\n",
    "        # 分类问题的损失函数\n",
    "        loss = -torch.log(rho[Y == 1]).sum() - torch.log(1 - rho[Y == 0]).sum()\n",
    "        loss = loss / Y.shape[0]\n",
    "        return loss\n",
    "    \n",
    "    def __backward__(self, Y, rho):\n",
    "        err = Y - rho\n",
    "        dW = err @ X.T / Y.shape[0]\n",
    "        db = err.mean()\n",
    "        return dW,db\n",
    "    \n",
    "    def predict(self, x):\n",
    "        z = self.__transfer__(x)\n",
    "        rho = self.__sigmoid__(z)\n",
    "        return rho\n",
    "    \n",
    "    def fit(self, X, Y, max_iter = 100, lr = 0.1):\n",
    "        n = X.shape[1]\n",
    "        assert(X.shape[0] == self.dim)\n",
    "        assert(n == Y.shape[0])\n",
    "        \n",
    "        for iter in range(max_iter):\n",
    "            rho = self.predict(X).squeeze()\n",
    "            loss = self.__calc_loss__(Y, rho)\n",
    "            print('iter=',iter,',loss=',loss.item())\n",
    "            dW,db = self.__backward__(Y, rho)\n",
    "            self.__update__(dW, db, lr)\n",
    "        \n",
    "        "
   ]
  },
  {
   "cell_type": "code",
   "execution_count": 12,
   "metadata": {},
   "outputs": [
    {
     "name": "stdout",
     "output_type": "stream",
     "text": [
      "iter= 0 ,loss= 0.6931470632553101\n",
      "iter= 1 ,loss= 0.02777140587568283\n",
      "iter= 2 ,loss= 0.02610558085143566\n",
      "iter= 3 ,loss= 0.024690182879567146\n",
      "iter= 4 ,loss= 0.02346869371831417\n",
      "iter= 5 ,loss= 0.02240084484219551\n",
      "iter= 6 ,loss= 0.021457098424434662\n",
      "iter= 7 ,loss= 0.020615214481949806\n",
      "iter= 8 ,loss= 0.019858134910464287\n",
      "iter= 9 ,loss= 0.019172513857483864\n",
      "iter= 10 ,loss= 0.018547773361206055\n",
      "iter= 11 ,loss= 0.01797536201775074\n",
      "iter= 12 ,loss= 0.017448345199227333\n",
      "iter= 13 ,loss= 0.016961002722382545\n",
      "iter= 14 ,loss= 0.016508525237441063\n",
      "iter= 15 ,loss= 0.016086949035525322\n",
      "iter= 16 ,loss= 0.01569286920130253\n",
      "iter= 17 ,loss= 0.015323380939662457\n",
      "iter= 18 ,loss= 0.014976033940911293\n",
      "iter= 19 ,loss= 0.014648647047579288\n",
      "iter= 20 ,loss= 0.014339389279484749\n",
      "iter= 21 ,loss= 0.014046603813767433\n",
      "iter= 22 ,loss= 0.013768873177468777\n",
      "iter= 23 ,loss= 0.013504943810403347\n",
      "iter= 24 ,loss= 0.013253687880933285\n",
      "iter= 25 ,loss= 0.013014113530516624\n",
      "iter= 26 ,loss= 0.012785330414772034\n",
      "iter= 27 ,loss= 0.012566558085381985\n",
      "iter= 28 ,loss= 0.01235706266015768\n",
      "iter= 29 ,loss= 0.012156209908425808\n",
      "iter= 30 ,loss= 0.01196342334151268\n",
      "iter= 31 ,loss= 0.011778146959841251\n",
      "iter= 32 ,loss= 0.011599930003285408\n",
      "iter= 33 ,loss= 0.01142832450568676\n",
      "iter= 34 ,loss= 0.011262922547757626\n",
      "iter= 35 ,loss= 0.011103356257081032\n",
      "iter= 36 ,loss= 0.010949297808110714\n",
      "iter= 37 ,loss= 0.010800427757203579\n",
      "iter= 38 ,loss= 0.010656466707587242\n",
      "iter= 39 ,loss= 0.010517148301005363\n",
      "iter= 40 ,loss= 0.010382228530943394\n",
      "iter= 41 ,loss= 0.010251483879983425\n",
      "iter= 42 ,loss= 0.010124687105417252\n",
      "iter= 43 ,loss= 0.01000167615711689\n",
      "iter= 44 ,loss= 0.00988222286105156\n",
      "iter= 45 ,loss= 0.009766201488673687\n",
      "iter= 46 ,loss= 0.009653422050178051\n",
      "iter= 47 ,loss= 0.00954375322908163\n",
      "iter= 48 ,loss= 0.009437047876417637\n",
      "iter= 49 ,loss= 0.009333174675703049\n",
      "iter= 50 ,loss= 0.009232024662196636\n",
      "iter= 51 ,loss= 0.009133473038673401\n",
      "iter= 52 ,loss= 0.009037398733198643\n",
      "iter= 53 ,loss= 0.008943719789385796\n",
      "iter= 54 ,loss= 0.008852328173816204\n",
      "iter= 55 ,loss= 0.008763138204813004\n",
      "iter= 56 ,loss= 0.008676070719957352\n",
      "iter= 57 ,loss= 0.008591024205088615\n",
      "iter= 58 ,loss= 0.00850795116275549\n",
      "iter= 59 ,loss= 0.008426742628216743\n",
      "iter= 60 ,loss= 0.008347366005182266\n",
      "iter= 61 ,loss= 0.008269723504781723\n",
      "iter= 62 ,loss= 0.008193781599402428\n",
      "iter= 63 ,loss= 0.008119456470012665\n",
      "iter= 64 ,loss= 0.008046713657677174\n",
      "iter= 65 ,loss= 0.007975496351718903\n",
      "iter= 66 ,loss= 0.007905726321041584\n",
      "iter= 67 ,loss= 0.007837386801838875\n",
      "iter= 68 ,loss= 0.007770413067191839\n",
      "iter= 69 ,loss= 0.0077047753147780895\n",
      "iter= 70 ,loss= 0.007640413474291563\n",
      "iter= 71 ,loss= 0.00757730333134532\n",
      "iter= 72 ,loss= 0.007515392731875181\n",
      "iter= 73 ,loss= 0.007454661652445793\n",
      "iter= 74 ,loss= 0.007395053748041391\n",
      "iter= 75 ,loss= 0.007336555980145931\n",
      "iter= 76 ,loss= 0.007279117591679096\n",
      "iter= 77 ,loss= 0.007222719956189394\n",
      "iter= 78 ,loss= 0.007167328614741564\n",
      "iter= 79 ,loss= 0.007112921215593815\n",
      "iter= 80 ,loss= 0.007059447001665831\n",
      "iter= 81 ,loss= 0.007006910163909197\n",
      "iter= 82 ,loss= 0.006955265067517757\n",
      "iter= 83 ,loss= 0.006904497276991606\n",
      "iter= 84 ,loss= 0.006854570470750332\n",
      "iter= 85 ,loss= 0.006805484648793936\n",
      "iter= 86 ,loss= 0.006757195573300123\n",
      "iter= 87 ,loss= 0.006709685083478689\n",
      "iter= 88 ,loss= 0.006662955041974783\n",
      "iter= 89 ,loss= 0.006616966798901558\n",
      "iter= 90 ,loss= 0.006571691017597914\n",
      "iter= 91 ,loss= 0.006527123041450977\n",
      "iter= 92 ,loss= 0.006483247969299555\n",
      "iter= 93 ,loss= 0.006440053228288889\n",
      "iter= 94 ,loss= 0.006397510413080454\n",
      "iter= 95 ,loss= 0.006355600897222757\n",
      "iter= 96 ,loss= 0.006314328871667385\n",
      "iter= 97 ,loss= 0.006273655220866203\n",
      "iter= 98 ,loss= 0.006233582738786936\n",
      "iter= 99 ,loss= 0.006194097921252251\n",
      "Test Acc =  1.0\n"
     ]
    },
    {
     "data": {
      "image/png": "[encoded data removed]",
      "text/plain": [
       "<Figure size 432x288 with 1 Axes>"
      ]
     },
     "metadata": {
      "needs_background": "light"
     },
     "output_type": "display_data"
    }
   ],
   "source": [
    "#测试模型\n",
    "cell = Neuron(2)\n",
    "cell.fit(X, Y, 100, 1)\n",
    "\n",
    "X_test,Y_test = GenerateSamples(30)\n",
    "Y_hat = torch.where(cell.predict(X_test).squeeze()>0.5,1,0)\n",
    "\n",
    "plt.plot(X_test[0,Y_test==1],X_test[1,Y_test==1],'r+')\n",
    "plt.plot(X_test[0,Y_test==0],X_test[1,Y_test==0],'b+')\n",
    "plt.plot(X_test[0,Y_hat==1],X_test[1,Y_hat==1],'ro',fillstyle='none')\n",
    "plt.plot(X_test[0,Y_hat==0],X_test[1,Y_hat==0],'bo',fillstyle='none')\n",
    "\n",
    "acc = torch.mean((Y_hat==Y_test).to(torch.float32)).item()\n",
    "print('Test Acc = ',acc)"
   ]
  },
  {
   "cell_type": "code",
   "execution_count": null,
   "metadata": {},
   "outputs": [],
   "source": []
  }
 ],
 "metadata": {
  "kernelspec": {
   "display_name": "Python 3",
   "language": "python",
   "name": "python3"
  },
  "language_info": {
   "codemirror_mode": {
    "name": "ipython",
    "version": 3
   },
   "file_extension": ".py",
   "mimetype": "text/x-python",
   "name": "python",
   "nbconvert_exporter": "python",
   "pygments_lexer": "ipython3",
   "version": "3.8.10"
  }
 },
 "nbformat": 4,
 "nbformat_minor": 2
}
